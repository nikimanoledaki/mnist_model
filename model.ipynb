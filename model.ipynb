{
 "nbformat": 4,
 "nbformat_minor": 2,
 "metadata": {
  "language_info": {
   "name": "python",
   "codemirror_mode": {
    "name": "ipython",
    "version": 2
   }
  },
  "orig_nbformat": 2,
  "file_extension": ".py",
  "mimetype": "text/x-python",
  "name": "python",
  "npconvert_exporter": "python",
  "pygments_lexer": "ipython2",
  "version": 2
 },
 "cells": [
  {
   "cell_type": "code",
   "execution_count": null,
   "metadata": {},
   "outputs": [
    {
     "ename": "Error",
     "evalue": "Jupyter server crashed. Unable to connect. \r\nError code from jupyter: 1",
     "output_type": "error",
     "traceback": [
      "Error: Jupyter server crashed. Unable to connect.",
      "Error code from jupyter: 1",
      "at E.start (/Users/student/.vscode/extensions/ms-python.python-2020.2.64397/out/client/extension.js:1:825587)"
     ]
    }
   ],
   "source": [
    "from keras.datasets import mnist\n",
    "(train_images, train_labels), (test_images, test_labels) = mnist.load_data()"
   ]
  }
 ]
}